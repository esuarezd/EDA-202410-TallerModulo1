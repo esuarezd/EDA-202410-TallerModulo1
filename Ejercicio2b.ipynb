{
  "nbformat": 4,
  "nbformat_minor": 0,
  "metadata": {
    "colab": {
      "provenance": [],
      "authorship_tag": "ABX9TyN2vkS5LzHpqXye9LtL1Wdb",
      "include_colab_link": true
    },
    "kernelspec": {
      "name": "python3",
      "display_name": "Python 3"
    },
    "language_info": {
      "name": "python"
    }
  },
  "cells": [
    {
      "cell_type": "markdown",
      "metadata": {
        "id": "view-in-github",
        "colab_type": "text"
      },
      "source": [
        "<a href=\"https://colab.research.google.com/github/esuarezd/EDA-202410-TallerModulo1/blob/main/Ejercicio2b.ipynb\" target=\"_parent\"><img src=\"https://colab.research.google.com/assets/colab-badge.svg\" alt=\"Open In Colab\"/></a>"
      ]
    },
    {
      "cell_type": "code",
      "execution_count": null,
      "metadata": {
        "colab": {
          "base_uri": "https://localhost:8080/"
        },
        "id": "cnjEEtaQchwQ",
        "outputId": "352ee1fd-47d0-423a-a023-ecf6cf5403f9"
      },
      "outputs": [
        {
          "output_type": "stream",
          "name": "stdout",
          "text": [
            "Ingrese N: 1000\n",
            "sum: 2046\n",
            "Elapsed time: 0.00097680091857910156 seconds.\n"
          ]
        }
      ],
      "source": [
        "from time import time\n",
        "MAX=int(input('Ingrese N: '))\n",
        "N=MAX\n",
        "sum=0\n",
        "i=1\n",
        "start_time = time()\n",
        "while i < N:\n",
        "  i = i*2\n",
        "  j= 0\n",
        "  while j < i:\n",
        "    sum = sum + 1\n",
        "    j=j+1\n",
        "elapsed_time = time() - start_time\n",
        "print('sum:', sum)\n",
        "print(\"Elapsed time: %.20f seconds.\" % elapsed_time)"
      ]
    },
    {
      "cell_type": "markdown",
      "source": [
        "Para la compljeiddad del algoritmo, podemos mirar cuantas veces entra al segundo while. Alli podemos usar la variable sum como un contador de veces que entra a este while.\n",
        "Por ejemplo, para N = 1000, tenemos que su es 2046"
      ],
      "metadata": {
        "id": "n846fToCs8To"
      }
    },
    {
      "cell_type": "code",
      "source": [],
      "metadata": {
        "id": "GQOc10bUdUqj"
      },
      "execution_count": null,
      "outputs": []
    }
  ]
}